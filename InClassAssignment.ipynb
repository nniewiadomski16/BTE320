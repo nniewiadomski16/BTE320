{
  "cells": [
    {
      "cell_type": "markdown",
      "metadata": {
        "id": "view-in-github",
        "colab_type": "text"
      },
      "source": [
        "<a href=\"https://colab.research.google.com/github/nniewiadomski16/BTE320/blob/main/InClassAssignment.ipynb\" target=\"_parent\"><img src=\"https://colab.research.google.com/assets/colab-badge.svg\" alt=\"Open In Colab\"/></a>"
      ]
    },
    {
      "cell_type": "code",
      "execution_count": null,
      "metadata": {
        "colab": {
          "background_save": true
        },
        "id": "-7qcuPIxCkx_",
        "outputId": "51998947-3f3a-409a-a907-b75fb0ecc049"
      },
      "outputs": [
        {
          "name": "stdout",
          "output_type": "stream",
          "text": [
            "244.92000000000002\n"
          ]
        }
      ],
      "source": [
        "r = 3 #radius of circle\n",
        "h = 10 #height of cylinder\n",
        "pi = 3.14\n",
        "# Calculate cylinder surface area\n",
        "Surface_Area = 2*pi*r**2 + 2*pi*r*h\n",
        "# Display Result\n",
        "print(Surface_Area)"
      ]
    },
    {
      "cell_type": "code",
      "source": [
        "p1= input('Choose rock, paper, or scissors: ')\n",
        "p2= input('Choose rock, paper, or scissors: ')\n",
        "if p1 == p2:\n",
        "  print('Drop')\n",
        "elif p1 == 'rock' and p2 == 'scissors':\n",
        "  print('Player 1 wins')\n",
        "elif p1 == 'rock' and p2 == 'paper':\n",
        "  print('Player 2 wins')\n",
        "elif p1 == 'paper' and p2 == 'rock':\n",
        "  print('Player 1 wins')\n",
        "elif p1 == 'paper' and p2 == 'scissors':\n",
        "  print('Player 2 wins')\n",
        "elif p1 == 'scissors' and p2 == 'paper':\n",
        "  print('Player 1 wins')\n",
        "elif p1 == 'scissors' and p2 =='rock':\n",
        "  print('Player 2 wins')\n"
      ],
      "metadata": {
        "colab": {
          "base_uri": "https://localhost:8080/"
        },
        "id": "rXi4gOX4LY20",
        "outputId": "facd9c90-1731-480e-db73-753db8d51848"
      },
      "execution_count": null,
      "outputs": [
        {
          "output_type": "stream",
          "name": "stdout",
          "text": [
            "Choose rock, paper, or scissors: rock\n",
            "Choose rock, paper, or scissors: paper\n",
            "Player 2 wins\n"
          ]
        }
      ]
    },
    {
      "cell_type": "code",
      "source": [
        "n1 = float(input('Enter Number 1: '))\n",
        "n2 = float(input('Enter Number 2: '))\n",
        "symbol = input('Enter Numerical Operator (+, -, *, /, **): ')\n",
        "\n",
        "\n",
        "if symbol == '+':\n",
        "  print(n1 + n2)\n",
        "elif symbol == '-':\n",
        "  print(n1 - n2)\n",
        "elif symbol == \"*\":\n",
        "  print(n1 * n2)\n",
        "elif symbol == '/':\n",
        "  print(n1 / n2)\n",
        "else:\n",
        "  print(n1 ** n2)"
      ],
      "metadata": {
        "colab": {
          "base_uri": "https://localhost:8080/"
        },
        "id": "fOU-RJr6Wwvg",
        "outputId": "9c9de1d0-59ea-4ac6-a144-031adae7e39a"
      },
      "execution_count": 4,
      "outputs": [
        {
          "output_type": "stream",
          "name": "stdout",
          "text": [
            "Enter Number 1: 4\n",
            "Enter Number 2: 6\n",
            "Enter Numerical Operator (+, -, *, /, **): *\n",
            "24.0\n"
          ]
        }
      ]
    }
  ],
  "metadata": {
    "colab": {
      "provenance": [],
      "authorship_tag": "ABX9TyNP9zLQPfyRolZS+fbTAKCU",
      "include_colab_link": true
    },
    "kernelspec": {
      "display_name": "Python 3",
      "name": "python3"
    },
    "language_info": {
      "name": "python"
    }
  },
  "nbformat": 4,
  "nbformat_minor": 0
}
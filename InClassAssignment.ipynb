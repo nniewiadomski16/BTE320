{
  "cells": [
    {
      "cell_type": "markdown",
      "metadata": {
        "id": "view-in-github",
        "colab_type": "text"
      },
      "source": [
        "<a href=\"https://colab.research.google.com/github/nniewiadomski16/BTE320/blob/main/InClassAssignment.ipynb\" target=\"_parent\"><img src=\"https://colab.research.google.com/assets/colab-badge.svg\" alt=\"Open In Colab\"/></a>"
      ]
    },
    {
      "cell_type": "code",
      "execution_count": null,
      "metadata": {
        "colab": {
          "background_save": true
        },
        "id": "-7qcuPIxCkx_",
        "outputId": "51998947-3f3a-409a-a907-b75fb0ecc049"
      },
      "outputs": [
        {
          "name": "stdout",
          "output_type": "stream",
          "text": [
            "244.92000000000002\n"
          ]
        }
      ],
      "source": [
        "# Shape Area Calculator\n",
        "r = 3 #radius of circle\n",
        "h = 10 #height of cylinder\n",
        "pi = 3.14\n",
        "# Calculate cylinder surface area\n",
        "Surface_Area = 2*pi*r**2 + 2*pi*r*h\n",
        "# Display Result\n",
        "print(Surface_Area)"
      ]
    },
    {
      "cell_type": "code",
      "execution_count": null,
      "metadata": {
        "colab": {
          "base_uri": "https://localhost:8080/"
        },
        "id": "rXi4gOX4LY20",
        "outputId": "c3d1d371-fda5-48dc-b4bc-9d6b9bfe6b8c"
      },
      "outputs": [
        {
          "name": "stdout",
          "output_type": "stream",
          "text": [
            "Do you want to play a game? Yes\n",
            "Choose rock, paper, or scissors: rock\n",
            "Computer chose scissors. \n",
            "Player 1 wins\n",
            "Do you want to play again? no\n",
            "Have a nice day!\n"
          ]
        }
      ],
      "source": [
        "# Rock, Paper, Scissors (With While Loop)\n",
        "import random\n",
        "choice = input('Do you want to play a game? ')\n",
        "while choice == 'Yes':\n",
        "  p1= input('Choose rock, paper, or scissors: ')\n",
        "  p2= random.choice(['rock', 'paper', 'scissors'])\n",
        "  print(f'Computer chose {p2}. ')\n",
        "  if p1 == p2:\n",
        "    print('Drop')\n",
        "  elif p1 == 'rock' and p2 == 'scissors':\n",
        "    print('Player 1 wins')\n",
        "  elif p1 == 'rock' and p2 == 'paper':\n",
        "    print('Player 2 wins')\n",
        "  elif p1 == 'paper' and p2 == 'rock':\n",
        "    print('Player 1 wins')\n",
        "  elif p1 == 'paper' and p2 == 'scissors':\n",
        "    print('Player 2 wins')\n",
        "  elif p1 == 'scissors' and p2 == 'paper':\n",
        "    print('Player 1 wins')\n",
        "  elif p1 == 'scissors' and p2 =='rock':\n",
        "    print('Player 2 wins')\n",
        "  choice = input('Do you want to play again? ')\n",
        "print('Have a nice day!')"
      ]
    },
    {
      "cell_type": "code",
      "execution_count": null,
      "metadata": {
        "colab": {
          "base_uri": "https://localhost:8080/"
        },
        "id": "fOU-RJr6Wwvg",
        "outputId": "9c9de1d0-59ea-4ac6-a144-031adae7e39a"
      },
      "outputs": [
        {
          "name": "stdout",
          "output_type": "stream",
          "text": [
            "Enter Number 1: 4\n",
            "Enter Number 2: 6\n",
            "Enter Numerical Operator (+, -, *, /, **): *\n",
            "24.0\n"
          ]
        }
      ],
      "source": [
        "# Numerical Calculator\n",
        "n1 = float(input('Enter Number 1: '))\n",
        "n2 = float(input('Enter Number 2: '))\n",
        "symbol = input('Enter Numerical Operator (+, -, *, /, **): ')\n",
        "\n",
        "\n",
        "if symbol == '+':\n",
        "  print(n1 + n2)\n",
        "elif symbol == '-':\n",
        "  print(n1 - n2)\n",
        "elif symbol == \"*\":\n",
        "  print(n1 * n2)\n",
        "elif symbol == '/':\n",
        "  print(n1 / n2)\n",
        "else:\n",
        "  print(n1 ** n2)"
      ]
    },
    {
      "cell_type": "code",
      "execution_count": null,
      "metadata": {
        "colab": {
          "base_uri": "https://localhost:8080/"
        },
        "id": "pJazHAvsZ5Sa",
        "outputId": "2f4863af-2a83-48ec-ec4f-f14eb5c9ea41"
      },
      "outputs": [
        {
          "name": "stdout",
          "output_type": "stream",
          "text": [
            "1 10.0\n",
            "2 10.0\n",
            "3 12.5\n",
            "4 15.0\n",
            "5 17.5\n",
            "6 20.0\n",
            "7 20.0\n",
            "8 20.0\n"
          ]
        }
      ],
      "source": [
        "# Parking Garage\n",
        "flat_rate= 5\n",
        "hourly_rate=2.5\n",
        "for hour in range(1,9):\n",
        "  charge = flat_rate + hourly_rate*hour\n",
        "  if charge < 10:\n",
        "    charge = 10.0\n",
        "  elif charge > 20:\n",
        "    charge = 20.0\n",
        "  print(hour, charge)"
      ]
    },
    {
      "cell_type": "code",
      "execution_count": null,
      "metadata": {
        "colab": {
          "base_uri": "https://localhost:8080/"
        },
        "id": "OrjEDzAvkcJW",
        "outputId": "8363f907-b8e9-4907-8800-5055e67999b5"
      },
      "outputs": [
        {
          "name": "stdout",
          "output_type": "stream",
          "text": [
            "0 0\n",
            "25 75\n",
            "50 90\n",
            "75 105\n",
            "100 100\n",
            "125 95\n",
            "150 90\n",
            "175 85\n",
            "200 80\n"
          ]
        }
      ],
      "source": [
        "# Movie Theater\n",
        "for ad in range(0, 201, 25):\n",
        "  additional = 2 * round(ad**0.5)\n",
        "  profit = ((20 + additional) * 10) - (200 + ad)\n",
        "  print(ad, profit)"
      ]
    },
    {
      "cell_type": "code",
      "execution_count": null,
      "metadata": {
        "colab": {
          "base_uri": "https://localhost:8080/"
        },
        "id": "5ObtG-_MmMLN",
        "outputId": "c0663497-7838-452c-9b0d-2b380d296420"
      },
      "outputs": [
        {
          "name": "stdout",
          "output_type": "stream",
          "text": [
            "Give a value: 2\n",
            "Give a value: 3\n",
            "Give a value: 4\n",
            "Give a value: 5\n",
            "Give a value: 6\n",
            "Give a value: 7\n",
            "Give a value: 1\n",
            "Give a value: 0\n",
            "[2, 3, 4, 5, 6, 7, 1]\n"
          ]
        }
      ],
      "source": [
        "#List Creator\n",
        "l = []\n",
        "item = int(input('Give a value: '))\n",
        "while item != 0:\n",
        "  l.append(item)\n",
        "  item = int(input('Give a value: '))\n",
        "print(l)\n"
      ]
    },
    {
      "cell_type": "code",
      "execution_count": null,
      "metadata": {
        "colab": {
          "base_uri": "https://localhost:8080/"
        },
        "id": "1QEYf_yDWCqT",
        "outputId": "0bdf6a37-d925-4793-9b37-04a0586fd977"
      },
      "outputs": [
        {
          "data": {
            "text/plain": [
              "{1: 'Jan',\n",
              " 2: 'Feb',\n",
              " 3: 'Mar',\n",
              " 4: 'Apr',\n",
              " 5: 'May',\n",
              " 6: 'Jun',\n",
              " 7: 'Jul',\n",
              " 8: 'Aug',\n",
              " 9: 'Sep',\n",
              " 10: 'Oct',\n",
              " 11: 'Nov',\n",
              " 12: 'Dec'}"
            ]
          },
          "execution_count": 21,
          "metadata": {},
          "output_type": "execute_result"
        }
      ],
      "source": [
        "#Months2Numbers Dictonary\n",
        "months = {}\n",
        "\n",
        "\n",
        "names = ['Jan', 'Feb', 'Mar', 'Apr', 'May', 'Jun', 'Jul', 'Aug', 'Sep', 'Oct', 'Nov', 'Dec']\n",
        "numbers= [1,2,3,4,5,6,7,8,9,10,11,12]\n",
        "\n",
        "for i in range(len(names)):\n",
        "  months[i+1]= names[i]\n",
        "months"
      ]
    },
    {
      "cell_type": "code",
      "execution_count": null,
      "metadata": {
        "colab": {
          "base_uri": "https://localhost:8080/"
        },
        "id": "HGJ8HgkuUC9P",
        "outputId": "dde27adb-5945-4151-a617-712dafd494eb"
      },
      "outputs": [
        {
          "output_type": "stream",
          "name": "stdout",
          "text": [
            "Provide the total cost of the house: 1000000\n",
            "Provide your annual salary: 120000\n",
            "Provide the portion of the salary to be saved (as a decimal): 0.10\n",
            "Number of months: 183\n"
          ]
        }
      ],
      "source": [
        "# House Hunting\n",
        "total_cost= float(input('Provide the total cost of the house: '))\n",
        "annual_salary= float(input('Provide your annual salary: '))\n",
        "portion_saved= float(input('Provide the portion of the salary to be saved (as a decimal): '))\n",
        "\n",
        "portion_down_payment= 0.25\n",
        "down_payment= total_cost*portion_down_payment\n",
        "r=0.04\n",
        "\n",
        "month=0\n",
        "current_savings=0\n",
        "while current_savings <= down_payment:\n",
        "  current_savings += current_savings*r/12\n",
        "  current_savings += portion_saved*annual_salary/12\n",
        "  month += 1\n",
        "print(f'Number of months: {month}' )"
      ]
    },
    {
      "cell_type": "code",
      "execution_count": null,
      "metadata": {
        "colab": {
          "base_uri": "https://localhost:8080/"
        },
        "id": "JapZWSQkiDpg",
        "outputId": "3c616389-8226-4ef4-bdd2-10adba7876e2"
      },
      "outputs": [
        {
          "output_type": "stream",
          "name": "stdout",
          "text": [
            "Provide the total cost of the house: 500000\n",
            "Provide your annual salary: 120000\n",
            "Provide the portion of the salary to be saved (as a decimal): .05\n",
            "Provide the semi-annual raise as a decimal: .03\n",
            "Number of months: 142\n"
          ]
        }
      ],
      "source": [
        "# Saving With Raise\n",
        "total_cost= float(input('Provide the total cost of the house: '))\n",
        "annual_salary= float(input('Provide your annual salary: '))\n",
        "portion_saved= float(input('Provide the portion of the salary to be saved (as a decimal): '))\n",
        "semi_annual_raise= float(input('Provide the semi-annual raise as a decimal: '))\n",
        "\n",
        "portion_down_payment= 0.25\n",
        "down_payment= total_cost*portion_down_payment\n",
        "r=0.04\n",
        "\n",
        "month=0\n",
        "current_savings=0\n",
        "while current_savings <= down_payment:\n",
        "  month +=1\n",
        "  if month %6 ==0:\n",
        "      annual_salary += annual_salary*semi_annual_raise\n",
        "  current_savings += current_savings*r/12\n",
        "  current_savings += portion_saved*annual_salary/12\n",
        "print(f'Number of months: {month}' )"
      ]
    },
    {
      "cell_type": "code",
      "execution_count": null,
      "metadata": {
        "colab": {
          "base_uri": "https://localhost:8080/"
        },
        "id": "_U2BwDjHsTvX",
        "outputId": "fa2a181e-0798-46c5-ab9a-c4787aa1d817"
      },
      "outputs": [
        {
          "output_type": "stream",
          "name": "stdout",
          "text": [
            "Enter a number to check: 6\n",
            "True\n"
          ]
        }
      ],
      "source": [
        "#Check If A Number Is Within Range\n",
        "def range_check (num, low, high):\n",
        "  if low <=num and num <=high:\n",
        "    return True\n",
        "  else:\n",
        "      return False\n",
        "\n",
        "num = int(input('Enter a number to check: '))\n",
        "print(range_check(num, 2, 10))\n"
      ]
    },
    {
      "cell_type": "code",
      "source": [
        "# Fee Calculation & Display Functions\n",
        "def calcFee(hours, decimals=2):\n",
        "  parking_fee= round(5 + 2.5 * hours, decimals)\n",
        "  return parking_fee\n",
        "\n",
        "def displayFee(fee):\n",
        "  print(f'Parking Fee: ${fee}' )\n",
        "\n",
        "\n",
        "hours_parked= int(input('Enter Number of Hours Parked: '))\n",
        "f= calcFee(hours_parked)\n",
        "displayFee(f)"
      ],
      "metadata": {
        "colab": {
          "base_uri": "https://localhost:8080/"
        },
        "id": "TLqTOOrLcGcU",
        "outputId": "f6a06364-339f-48ad-f976-2085f34785f4"
      },
      "execution_count": null,
      "outputs": [
        {
          "output_type": "stream",
          "name": "stdout",
          "text": [
            "Enter Number of Hours Parked: 4\n",
            "Parking Fee: $15.0\n"
          ]
        }
      ]
    },
    {
      "cell_type": "code",
      "source": [
        "#Reverse Function (Recursion)\n",
        "def reverse(s):\n",
        "  if len(s)==1:\n",
        "    return s\n",
        "  else:\n",
        "    return s[-1] + reverse(s[:-1])\n",
        "\n",
        "reverse('Hello')"
      ],
      "metadata": {
        "colab": {
          "base_uri": "https://localhost:8080/",
          "height": 35
        },
        "id": "28ApdjfQkgsQ",
        "outputId": "e6ea12c8-5def-4cdd-b497-d698ce16eb4a"
      },
      "execution_count": null,
      "outputs": [
        {
          "output_type": "execute_result",
          "data": {
            "text/plain": [
              "'olleH'"
            ],
            "application/vnd.google.colaboratory.intrinsic+json": {
              "type": "string"
            }
          },
          "metadata": {},
          "execution_count": 4
        }
      ]
    },
    {
      "cell_type": "code",
      "source": [
        "\"\"\"\n",
        "Function that calculates the weighted average of a list L, given weights w\n",
        "The function should handle the following exception error types:\n",
        "- ZeroDivisionError (returns empty list)\n",
        "- TypeError (returns empty list)\n",
        "- any other unknown error (returns float('nan'))\n",
        "\"\"\"\n",
        "\n",
        "def wAvg(L, w):\n",
        "  res = []\n",
        "  try:\n",
        "    for i in range(len(L)):\n",
        "      res.append(L[i] * w[i])\n",
        "    return sum(res)/sum(w)\n",
        "  except ZeroDivisionError:\n",
        "    print('Division by Zero.')\n",
        "    return []\n",
        "  except TypeError:\n",
        "    print('Non-numerical objects found.')\n",
        "    return []\n",
        "  except Exception as e:\n",
        "    print(f'Unknown error: {e}')\n",
        "    return float('nan')\n",
        "\n",
        "List = [1,2,3]\n",
        "weights = [0.2, 0, -0.2]\n",
        "wAvg(List, weights)\n"
      ],
      "metadata": {
        "colab": {
          "base_uri": "https://localhost:8080/"
        },
        "id": "q5lQkscr9kgP",
        "outputId": "7a54227e-5f6d-4f34-931f-6054fb0120e6"
      },
      "execution_count": null,
      "outputs": [
        {
          "output_type": "stream",
          "name": "stdout",
          "text": [
            "Division by Zero.\n"
          ]
        },
        {
          "output_type": "execute_result",
          "data": {
            "text/plain": [
              "[]"
            ]
          },
          "metadata": {},
          "execution_count": 14
        }
      ]
    },
    {
      "cell_type": "code",
      "source": [
        "class Student:\n",
        "  def __init__(self, name, number):\n",
        "    self.name = name\n",
        "    self.number = number\n",
        "\n",
        "s1 = Student('James Bond', '007')\n",
        "s2 = Student('Clark Kent', '333')\n",
        "\n",
        "s1.name"
      ],
      "metadata": {
        "colab": {
          "base_uri": "https://localhost:8080/",
          "height": 35
        },
        "id": "n7vwib0m213C",
        "outputId": "b6a4ebc1-42c9-4654-bc06-0dfeaefeca76"
      },
      "execution_count": 4,
      "outputs": [
        {
          "output_type": "execute_result",
          "data": {
            "text/plain": [
              "'James Bond'"
            ],
            "application/vnd.google.colaboratory.intrinsic+json": {
              "type": "string"
            }
          },
          "metadata": {},
          "execution_count": 4
        }
      ]
    }
  ],
  "metadata": {
    "colab": {
      "provenance": [],
      "authorship_tag": "ABX9TyNfA8KmyTXn/i/TfTiv3IuQ",
      "include_colab_link": true
    },
    "kernelspec": {
      "display_name": "Python 3",
      "name": "python3"
    },
    "language_info": {
      "name": "python"
    }
  },
  "nbformat": 4,
  "nbformat_minor": 0
}
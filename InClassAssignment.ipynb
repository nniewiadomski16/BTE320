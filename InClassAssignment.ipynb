{
  "cells": [
    {
      "cell_type": "markdown",
      "metadata": {
        "id": "view-in-github",
        "colab_type": "text"
      },
      "source": [
        "<a href=\"https://colab.research.google.com/github/nniewiadomski16/BTE320/blob/main/InClassAssignment.ipynb\" target=\"_parent\"><img src=\"https://colab.research.google.com/assets/colab-badge.svg\" alt=\"Open In Colab\"/></a>"
      ]
    },
    {
      "cell_type": "code",
      "execution_count": null,
      "metadata": {
        "colab": {
          "background_save": true
        },
        "id": "-7qcuPIxCkx_",
        "outputId": "51998947-3f3a-409a-a907-b75fb0ecc049"
      },
      "outputs": [
        {
          "name": "stdout",
          "output_type": "stream",
          "text": [
            "244.92000000000002\n"
          ]
        }
      ],
      "source": [
        "# Calculating Area\n",
        "r = 3 #radius of circle\n",
        "h = 10 #height of cylinder\n",
        "pi = 3.14\n",
        "# Calculate cylinder surface area\n",
        "Surface_Area = 2*pi*r**2 + 2*pi*r*h\n",
        "# Display Result\n",
        "print(Surface_Area)"
      ]
    },
    {
      "cell_type": "code",
      "source": [
        "# Rock, Paper, Scissors\n",
        "import random\n",
        "choice = input('Do you want to play a game? ')\n",
        "while choice == 'Yes':\n",
        "  p1= input('Choose rock, paper, or scissors: ')\n",
        "  p2= random.choice(['rock', 'paper', 'scissors'])\n",
        "  print(f'Computer chose {p2}. ')\n",
        "  if p1 == p2:\n",
        "    print('Drop')\n",
        "  elif p1 == 'rock' and p2 == 'scissors':\n",
        "    print('Player 1 wins')\n",
        "  elif p1 == 'rock' and p2 == 'paper':\n",
        "    print('Player 2 wins')\n",
        "  elif p1 == 'paper' and p2 == 'rock':\n",
        "    print('Player 1 wins')\n",
        "  elif p1 == 'paper' and p2 == 'scissors':\n",
        "    print('Player 2 wins')\n",
        "  elif p1 == 'scissors' and p2 == 'paper':\n",
        "    print('Player 1 wins')\n",
        "  elif p1 == 'scissors' and p2 =='rock':\n",
        "    print('Player 2 wins')\n",
        "  choice = input('Do you want to play again? ')\n",
        "print('Have a nice day!')"
      ],
      "metadata": {
        "colab": {
          "base_uri": "https://localhost:8080/"
        },
        "id": "rXi4gOX4LY20",
        "outputId": "c3d1d371-fda5-48dc-b4bc-9d6b9bfe6b8c"
      },
      "execution_count": null,
      "outputs": [
        {
          "output_type": "stream",
          "name": "stdout",
          "text": [
            "Do you want to play a game? Yes\n",
            "Choose rock, paper, or scissors: rock\n",
            "Computer chose scissors. \n",
            "Player 1 wins\n",
            "Do you want to play again? no\n",
            "Have a nice day!\n"
          ]
        }
      ]
    },
    {
      "cell_type": "code",
      "source": [
        "# Calculator\n",
        "n1 = float(input('Enter Number 1: '))\n",
        "n2 = float(input('Enter Number 2: '))\n",
        "symbol = input('Enter Numerical Operator (+, -, *, /, **): ')\n",
        "\n",
        "\n",
        "if symbol == '+':\n",
        "  print(n1 + n2)\n",
        "elif symbol == '-':\n",
        "  print(n1 - n2)\n",
        "elif symbol == \"*\":\n",
        "  print(n1 * n2)\n",
        "elif symbol == '/':\n",
        "  print(n1 / n2)\n",
        "else:\n",
        "  print(n1 ** n2)"
      ],
      "metadata": {
        "colab": {
          "base_uri": "https://localhost:8080/"
        },
        "id": "fOU-RJr6Wwvg",
        "outputId": "9c9de1d0-59ea-4ac6-a144-031adae7e39a"
      },
      "execution_count": null,
      "outputs": [
        {
          "output_type": "stream",
          "name": "stdout",
          "text": [
            "Enter Number 1: 4\n",
            "Enter Number 2: 6\n",
            "Enter Numerical Operator (+, -, *, /, **): *\n",
            "24.0\n"
          ]
        }
      ]
    },
    {
      "cell_type": "code",
      "source": [
        "# Parking Garage\n",
        "flat_rate= 5\n",
        "hourly_rate=2.5\n",
        "for hour in range(1,9):\n",
        "  charge = flat_rate + hourly_rate*hour\n",
        "  if charge < 10:\n",
        "    charge = 10.0\n",
        "  elif charge > 20:\n",
        "    charge = 20.0\n",
        "  print(hour, charge)"
      ],
      "metadata": {
        "colab": {
          "base_uri": "https://localhost:8080/"
        },
        "id": "pJazHAvsZ5Sa",
        "outputId": "2f4863af-2a83-48ec-ec4f-f14eb5c9ea41"
      },
      "execution_count": null,
      "outputs": [
        {
          "output_type": "stream",
          "name": "stdout",
          "text": [
            "1 10.0\n",
            "2 10.0\n",
            "3 12.5\n",
            "4 15.0\n",
            "5 17.5\n",
            "6 20.0\n",
            "7 20.0\n",
            "8 20.0\n"
          ]
        }
      ]
    },
    {
      "cell_type": "code",
      "source": [
        "# Movie Theater\n",
        "for ad in range(0, 201, 25):\n",
        "  additional = 2 * round(ad**0.5)\n",
        "  profit = ((20 + additional) * 10) - (200 + ad)\n",
        "  print(ad, profit)"
      ],
      "metadata": {
        "colab": {
          "base_uri": "https://localhost:8080/"
        },
        "id": "OrjEDzAvkcJW",
        "outputId": "8363f907-b8e9-4907-8800-5055e67999b5"
      },
      "execution_count": null,
      "outputs": [
        {
          "output_type": "stream",
          "name": "stdout",
          "text": [
            "0 0\n",
            "25 75\n",
            "50 90\n",
            "75 105\n",
            "100 100\n",
            "125 95\n",
            "150 90\n",
            "175 85\n",
            "200 80\n"
          ]
        }
      ]
    },
    {
      "cell_type": "code",
      "source": [
        "#List Creator\n",
        "l = []\n",
        "item = int(input('Give a value: '))\n",
        "while item != 0:\n",
        "  l.append(item)\n",
        "  item = int(input('Give a value: '))\n",
        "print(l)\n"
      ],
      "metadata": {
        "colab": {
          "base_uri": "https://localhost:8080/"
        },
        "id": "5ObtG-_MmMLN",
        "outputId": "c0663497-7838-452c-9b0d-2b380d296420"
      },
      "execution_count": 6,
      "outputs": [
        {
          "output_type": "stream",
          "name": "stdout",
          "text": [
            "Give a value: 2\n",
            "Give a value: 3\n",
            "Give a value: 4\n",
            "Give a value: 5\n",
            "Give a value: 6\n",
            "Give a value: 7\n",
            "Give a value: 1\n",
            "Give a value: 0\n",
            "[2, 3, 4, 5, 6, 7, 1]\n"
          ]
        }
      ]
    }
  ],
  "metadata": {
    "colab": {
      "provenance": [],
      "authorship_tag": "ABX9TyOl/puIF79ZtN/pivt+4IPg",
      "include_colab_link": true
    },
    "kernelspec": {
      "display_name": "Python 3",
      "name": "python3"
    },
    "language_info": {
      "name": "python"
    }
  },
  "nbformat": 4,
  "nbformat_minor": 0
}